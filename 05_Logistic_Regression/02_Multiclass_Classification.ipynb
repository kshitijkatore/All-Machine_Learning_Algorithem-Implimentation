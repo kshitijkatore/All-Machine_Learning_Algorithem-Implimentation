{
 "cells": [
  {
   "cell_type": "code",
   "execution_count": 1,
   "id": "6b6b0040",
   "metadata": {},
   "outputs": [],
   "source": [
    "import pandas as pd\n",
    "import numpy as np\n",
    "import matplotlib.pyplot as plt\n",
    "import seaborn as sns\n",
    "%matplotlib inline"
   ]
  },
  {
   "cell_type": "code",
   "execution_count": 2,
   "id": "90512921",
   "metadata": {},
   "outputs": [],
   "source": [
    "from sklearn.datasets import make_classification"
   ]
  },
  {
   "cell_type": "code",
   "execution_count": 4,
   "id": "37fbb2ec",
   "metadata": {},
   "outputs": [],
   "source": [
    "X,y = make_classification(n_samples=1000,n_features=10,n_informative=3 ,n_classes=3,random_state=42)"
   ]
  },
  {
   "cell_type": "code",
   "execution_count": 7,
   "id": "d85a9f15",
   "metadata": {},
   "outputs": [
    {
     "data": {
      "text/plain": [
       "array([[ 0.7715326 , -1.47433614,  2.19664605, ...,  0.68174341,\n",
       "         1.08996189,  0.96250289],\n",
       "       [ 1.85838284, -3.68087983,  0.22749588, ..., -0.47417818,\n",
       "         1.34113888, -0.77177196],\n",
       "       [-0.98724764,  1.53916836,  0.5859042 , ..., -0.32202815,\n",
       "        -1.45103394,  1.32543211],\n",
       "       ...,\n",
       "       [-1.227082  ,  1.65602784,  0.47263035, ..., -0.8634936 ,\n",
       "        -1.83932326, -0.03120349],\n",
       "       [ 1.28527572, -0.29715202, -0.67172079, ..., -1.31544131,\n",
       "         2.85446468,  1.3094441 ],\n",
       "       [-0.75428048,  0.88516075, -1.6728939 , ..., -2.0362205 ,\n",
       "        -1.43989584,  0.04749347]], shape=(1000, 10))"
      ]
     },
     "execution_count": 7,
     "metadata": {},
     "output_type": "execute_result"
    }
   ],
   "source": [
    "X"
   ]
  },
  {
   "cell_type": "code",
   "execution_count": 8,
   "id": "7349105a",
   "metadata": {},
   "outputs": [
    {
     "data": {
      "text/plain": [
       "array([1, 2, 1, 1, 2, 1, 1, 0, 2, 2, 2, 0, 1, 0, 2, 1, 2, 1, 0, 1, 1, 1,\n",
       "       2, 2, 1, 2, 2, 0, 1, 2, 0, 1, 0, 2, 0, 1, 0, 0, 2, 0, 1, 0, 2, 1,\n",
       "       2, 0, 2, 0, 2, 0, 0, 0, 2, 1, 1, 1, 1, 2, 0, 0, 2, 1, 0, 0, 1, 2,\n",
       "       0, 2, 2, 1, 0, 1, 1, 1, 2, 2, 2, 1, 2, 2, 2, 2, 2, 2, 0, 0, 0, 0,\n",
       "       0, 1, 1, 2, 1, 0, 1, 2, 0, 2, 0, 0, 2, 1, 0, 2, 0, 2, 2, 0, 2, 0,\n",
       "       0, 0, 0, 2, 1, 2, 1, 0, 2, 0, 0, 2, 1, 0, 2, 1, 0, 0, 2, 2, 0, 0,\n",
       "       0, 2, 1, 2, 2, 0, 2, 0, 1, 2, 1, 2, 1, 1, 2, 0, 0, 1, 0, 2, 0, 0,\n",
       "       0, 1, 1, 2, 1, 2, 2, 0, 0, 0, 1, 1, 0, 2, 1, 2, 2, 2, 1, 1, 0, 2,\n",
       "       1, 0, 2, 1, 2, 1, 2, 0, 1, 1, 0, 2, 2, 2, 2, 0, 2, 0, 0, 0, 0, 2,\n",
       "       1, 2, 1, 1, 0, 2, 2, 2, 2, 2, 2, 2, 1, 1, 1, 2, 2, 0, 2, 2, 2, 0,\n",
       "       2, 0, 1, 1, 2, 1, 2, 2, 2, 2, 0, 1, 0, 0, 0, 0, 2, 2, 2, 1, 1, 1,\n",
       "       0, 2, 0, 0, 1, 0, 2, 0, 1, 2, 2, 2, 1, 2, 1, 0, 1, 1, 1, 2, 2, 2,\n",
       "       2, 2, 2, 0, 0, 0, 2, 1, 1, 1, 1, 2, 1, 2, 2, 1, 2, 1, 0, 0, 2, 2,\n",
       "       2, 1, 1, 1, 2, 0, 0, 0, 0, 1, 0, 0, 2, 1, 1, 1, 0, 0, 0, 2, 0, 2,\n",
       "       2, 1, 1, 0, 2, 2, 2, 1, 2, 1, 0, 0, 0, 0, 0, 0, 2, 2, 1, 2, 0, 2,\n",
       "       1, 0, 1, 1, 1, 0, 2, 0, 2, 1, 0, 0, 0, 2, 0, 1, 2, 0, 1, 1, 0, 2,\n",
       "       1, 1, 1, 0, 2, 0, 0, 0, 2, 0, 1, 1, 2, 2, 2, 2, 0, 2, 0, 2, 1, 2,\n",
       "       2, 1, 1, 2, 0, 2, 2, 2, 1, 2, 1, 1, 0, 2, 1, 0, 1, 2, 0, 2, 2, 0,\n",
       "       1, 2, 0, 0, 2, 2, 0, 0, 2, 0, 1, 0, 2, 2, 0, 1, 2, 2, 0, 1, 2, 2,\n",
       "       0, 2, 1, 0, 1, 1, 1, 0, 2, 0, 1, 1, 1, 2, 0, 1, 1, 2, 2, 1, 1, 1,\n",
       "       0, 0, 2, 1, 0, 1, 1, 2, 0, 1, 0, 2, 2, 1, 1, 0, 2, 1, 2, 1, 0, 0,\n",
       "       0, 1, 2, 0, 2, 2, 0, 2, 0, 0, 0, 0, 1, 2, 2, 1, 2, 2, 1, 1, 0, 2,\n",
       "       1, 1, 0, 2, 1, 2, 1, 0, 1, 2, 2, 2, 2, 0, 2, 1, 1, 0, 2, 0, 1, 1,\n",
       "       0, 0, 1, 2, 0, 2, 0, 0, 0, 0, 0, 1, 1, 1, 2, 1, 1, 1, 1, 2, 2, 1,\n",
       "       1, 1, 2, 0, 1, 1, 1, 2, 1, 0, 2, 2, 2, 0, 2, 0, 0, 0, 2, 2, 1, 0,\n",
       "       1, 2, 1, 2, 1, 1, 2, 1, 2, 0, 0, 1, 0, 1, 2, 1, 1, 2, 2, 1, 2, 0,\n",
       "       1, 2, 0, 2, 0, 2, 1, 2, 2, 1, 1, 0, 1, 0, 1, 0, 0, 1, 2, 1, 1, 1,\n",
       "       1, 1, 2, 1, 0, 1, 0, 0, 0, 2, 0, 2, 0, 0, 2, 1, 1, 2, 1, 0, 1, 0,\n",
       "       0, 1, 1, 1, 0, 2, 1, 2, 0, 0, 1, 0, 2, 1, 2, 2, 0, 2, 1, 2, 2, 0,\n",
       "       0, 2, 2, 2, 1, 2, 1, 2, 0, 1, 0, 2, 2, 2, 2, 0, 1, 2, 2, 1, 2, 1,\n",
       "       2, 0, 1, 1, 0, 0, 1, 1, 1, 2, 0, 2, 1, 0, 0, 0, 2, 2, 2, 2, 2, 1,\n",
       "       1, 2, 2, 1, 2, 1, 0, 1, 2, 0, 1, 1, 1, 1, 1, 0, 0, 1, 0, 2, 0, 2,\n",
       "       0, 0, 0, 2, 0, 0, 2, 2, 1, 0, 0, 2, 0, 2, 0, 0, 1, 1, 2, 2, 1, 1,\n",
       "       1, 2, 2, 0, 0, 2, 2, 1, 2, 0, 0, 1, 1, 2, 0, 0, 2, 0, 1, 2, 1, 0,\n",
       "       1, 0, 1, 0, 2, 2, 0, 2, 0, 2, 1, 0, 2, 1, 2, 1, 1, 2, 0, 2, 0, 1,\n",
       "       2, 2, 0, 1, 0, 1, 1, 2, 1, 1, 1, 2, 1, 0, 2, 1, 1, 2, 0, 1, 1, 0,\n",
       "       0, 0, 1, 2, 2, 0, 1, 2, 2, 0, 2, 1, 0, 0, 1, 2, 0, 1, 2, 2, 1, 2,\n",
       "       0, 1, 0, 2, 0, 0, 2, 1, 1, 0, 2, 2, 0, 0, 0, 1, 0, 0, 0, 2, 0, 1,\n",
       "       0, 1, 0, 1, 2, 2, 0, 0, 1, 0, 0, 0, 0, 0, 1, 1, 2, 0, 1, 0, 0, 0,\n",
       "       0, 0, 0, 1, 1, 2, 2, 2, 1, 1, 0, 1, 0, 0, 2, 0, 2, 0, 2, 2, 0, 0,\n",
       "       1, 2, 1, 1, 0, 1, 1, 1, 0, 0, 1, 0, 1, 1, 2, 1, 0, 1, 1, 2, 2, 1,\n",
       "       0, 0, 0, 1, 0, 0, 2, 2, 0, 0, 0, 0, 0, 1, 0, 2, 1, 2, 1, 2, 0, 0,\n",
       "       0, 0, 2, 1, 0, 2, 1, 0, 2, 0, 2, 2, 1, 1, 1, 1, 1, 1, 1, 1, 2, 0,\n",
       "       1, 2, 0, 0, 0, 1, 1, 1, 0, 0, 0, 0, 1, 0, 1, 2, 0, 0, 1, 1, 2, 2,\n",
       "       1, 1, 1, 1, 2, 0, 1, 2, 1, 0, 1, 2, 0, 0, 1, 0, 2, 1, 1, 2, 1, 0,\n",
       "       1, 0, 1, 2, 0, 2, 1, 1, 1, 1])"
      ]
     },
     "execution_count": 8,
     "metadata": {},
     "output_type": "execute_result"
    }
   ],
   "source": [
    "y"
   ]
  },
  {
   "cell_type": "code",
   "execution_count": 9,
   "id": "b1c0e841",
   "metadata": {},
   "outputs": [],
   "source": [
    "from sklearn.model_selection import train_test_split\n",
    "X_train,X_test,y_train,y_test = train_test_split(X,y,test_size=0.30,random_state=42)"
   ]
  },
  {
   "cell_type": "code",
   "execution_count": 11,
   "id": "01f40b40",
   "metadata": {},
   "outputs": [
    {
     "name": "stderr",
     "output_type": "stream",
     "text": [
      "d:\\All-Machine_Learning_Algorithem-Implimentation\\venv\\Lib\\site-packages\\sklearn\\linear_model\\_logistic.py:1273: FutureWarning: 'multi_class' was deprecated in version 1.5 and will be removed in 1.7. Use OneVsRestClassifier(LogisticRegression(..)) instead. Leave it to its default value to avoid this warning.\n",
      "  warnings.warn(\n"
     ]
    }
   ],
   "source": [
    "from sklearn.linear_model import LogisticRegression\n",
    "logistic = LogisticRegression(multi_class='ovr')\n",
    "logistic.fit(X_train,y_train)\n",
    "y_pred = logistic.predict(X_test)"
   ]
  },
  {
   "cell_type": "code",
   "execution_count": 12,
   "id": "313df7dc",
   "metadata": {},
   "outputs": [
    {
     "data": {
      "text/plain": [
       "array([2, 0, 1, 2, 0, 1, 2, 0, 0, 2, 2, 2, 2, 2, 2, 2, 2, 1, 0, 0, 0, 0,\n",
       "       2, 0, 1, 0, 2, 1, 0, 2, 2, 0, 1, 0, 0, 2, 2, 2, 1, 0, 0, 1, 2, 0,\n",
       "       1, 2, 1, 0, 1, 1, 2, 0, 1, 0, 2, 2, 2, 2, 1, 2, 0, 2, 2, 2, 1, 1,\n",
       "       0, 1, 0, 1, 0, 2, 2, 0, 0, 0, 2, 1, 1, 2, 2, 0, 2, 1, 0, 1, 1, 2,\n",
       "       1, 1, 2, 2, 1, 2, 2, 2, 1, 0, 0, 0, 0, 2, 1, 0, 2, 1, 1, 0, 0, 2,\n",
       "       0, 1, 2, 0, 0, 0, 1, 1, 2, 2, 1, 0, 0, 1, 2, 0, 0, 1, 0, 2, 1, 0,\n",
       "       2, 2, 2, 0, 0, 1, 2, 1, 2, 1, 2, 1, 2, 2, 2, 0, 0, 1, 2, 0, 0, 2,\n",
       "       1, 0, 0, 0, 2, 0, 0, 0, 2, 2, 2, 2, 2, 1, 2, 1, 0, 2, 1, 0, 0, 2,\n",
       "       0, 1, 1, 2, 2, 0, 0, 2, 0, 0, 0, 2, 0, 0, 0, 0, 2, 1, 2, 2, 1, 2,\n",
       "       0, 1, 2, 2, 1, 1, 0, 2, 1, 2, 2, 2, 2, 2, 0, 0, 0, 0, 0, 0, 1, 0,\n",
       "       1, 2, 2, 2, 0, 0, 0, 0, 0, 2, 2, 0, 0, 2, 2, 1, 0, 1, 2, 0, 0, 2,\n",
       "       0, 2, 0, 0, 2, 2, 0, 2, 2, 0, 1, 2, 2, 0, 1, 1, 0, 1, 2, 0, 2, 2,\n",
       "       0, 0, 0, 2, 1, 2, 0, 2, 2, 2, 0, 2, 0, 2, 2, 0, 0, 1, 0, 2, 2, 2,\n",
       "       0, 2, 2, 0, 2, 2, 0, 2, 0, 0, 2, 2, 0, 1])"
      ]
     },
     "execution_count": 12,
     "metadata": {},
     "output_type": "execute_result"
    }
   ],
   "source": [
    "y_pred"
   ]
  },
  {
   "cell_type": "code",
   "execution_count": 13,
   "id": "5ad184c2",
   "metadata": {},
   "outputs": [
    {
     "name": "stdout",
     "output_type": "stream",
     "text": [
      "0.68\n",
      "              precision    recall  f1-score   support\n",
      "\n",
      "           0       0.77      0.70      0.73       113\n",
      "           1       0.40      0.58      0.47        65\n",
      "           2       0.86      0.71      0.78       122\n",
      "\n",
      "    accuracy                           0.68       300\n",
      "   macro avg       0.67      0.67      0.66       300\n",
      "weighted avg       0.72      0.68      0.70       300\n",
      "\n",
      "[[79 31  3]\n",
      " [16 38 11]\n",
      " [ 8 27 87]]\n"
     ]
    }
   ],
   "source": [
    "from sklearn.metrics import accuracy_score,classification_report,confusion_matrix\n",
    "\n",
    "score = accuracy_score(y_pred,y_test)\n",
    "print(score)\n",
    "print(classification_report(y_pred,y_test))\n",
    "print(confusion_matrix(y_pred,y_test))"
   ]
  },
  {
   "cell_type": "code",
   "execution_count": null,
   "id": "eb8a624e",
   "metadata": {},
   "outputs": [],
   "source": []
  }
 ],
 "metadata": {
  "kernelspec": {
   "display_name": "venv",
   "language": "python",
   "name": "python3"
  },
  "language_info": {
   "codemirror_mode": {
    "name": "ipython",
    "version": 3
   },
   "file_extension": ".py",
   "mimetype": "text/x-python",
   "name": "python",
   "nbconvert_exporter": "python",
   "pygments_lexer": "ipython3",
   "version": "3.12.0"
  }
 },
 "nbformat": 4,
 "nbformat_minor": 5
}
